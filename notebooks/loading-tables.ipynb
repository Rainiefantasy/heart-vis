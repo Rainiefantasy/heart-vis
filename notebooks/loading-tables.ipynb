{
 "cells": [
  {
   "cell_type": "code",
   "execution_count": 1,
   "id": "608d7bd5",
   "metadata": {},
   "outputs": [
    {
     "data": {
      "text/plain": [
       "'2.0.41'"
      ]
     },
     "execution_count": 1,
     "metadata": {},
     "output_type": "execute_result"
    }
   ],
   "source": [
    "import sqlalchemy\n",
    "import pandas as pd\n",
    "import getpass\n",
    "import sys\n",
    "sqlalchemy.__version__"
   ]
  },
  {
   "cell_type": "code",
   "execution_count": 2,
   "id": "d091c2bd",
   "metadata": {},
   "outputs": [],
   "source": [
    "def connect_database(username=input(\"Your PostgreSQL username:\"),\n",
    "                     password=getpass.getpass(prompt=\"Your password:\", stream=None),\n",
    "                     host='localhost',\n",
    "                     db='cvdnettesting'):\n",
    "    \"\"\"\n",
    "    Establishes a connection engine to connect to the CVD-Net database\n",
    "    \n",
    "    Parameters\n",
    "    ----------\n",
    "    username: str\n",
    "        PostgreSQL username to be entered as terminal input\n",
    "    password: str\n",
    "        PostgreSQL password to be entered as terminal input (not echoed)\n",
    "    host: str, default 'localhost'\n",
    "        The host of PostgreSQL server\n",
    "    db: str, default 'CVD-Net'\n",
    "        The database name on the PostgreSQL server\n",
    "    \n",
    "    Returns\n",
    "    -------\n",
    "    engine\n",
    "        A sqlalchemy engine\n",
    "    \"\"\"\n",
    "\n",
    "    connection_string = f'postgresql+psycopg2://{username}:{password}@{host}/{db}'\n",
    "    engine = sqlalchemy.create_engine(url=connection_string)\n",
    "\n",
    "    return engine"
   ]
  },
  {
   "cell_type": "code",
   "execution_count": 4,
   "id": "4b33747d",
   "metadata": {},
   "outputs": [],
   "source": [
    "engine = connect_database()"
   ]
  },
  {
   "cell_type": "code",
   "execution_count": 5,
   "id": "a485aa63",
   "metadata": {},
   "outputs": [
    {
     "data": {
      "application/vnd.microsoft.datawrangler.viewer.v0+json": {
       "columns": [
        {
         "name": "index",
         "rawType": "int64",
         "type": "integer"
        },
        {
         "name": "id",
         "rawType": "object",
         "type": "string"
        },
        {
         "name": "diagnosis",
         "rawType": "object",
         "type": "string"
        },
        {
         "name": "dob",
         "rawType": "object",
         "type": "string"
        },
        {
         "name": "height_m",
         "rawType": "object",
         "type": "string"
        },
        {
         "name": "sex_id",
         "rawType": "object",
         "type": "string"
        }
       ],
       "ref": "8428084d-56f8-4aea-ae21-e3bdf29de08d",
       "rows": [],
       "shape": {
        "columns": 5,
        "rows": 0
       }
      },
      "text/html": [
       "<div>\n",
       "<style scoped>\n",
       "    .dataframe tbody tr th:only-of-type {\n",
       "        vertical-align: middle;\n",
       "    }\n",
       "\n",
       "    .dataframe tbody tr th {\n",
       "        vertical-align: top;\n",
       "    }\n",
       "\n",
       "    .dataframe thead th {\n",
       "        text-align: right;\n",
       "    }\n",
       "</style>\n",
       "<table border=\"1\" class=\"dataframe\">\n",
       "  <thead>\n",
       "    <tr style=\"text-align: right;\">\n",
       "      <th></th>\n",
       "      <th>id</th>\n",
       "      <th>diagnosis</th>\n",
       "      <th>dob</th>\n",
       "      <th>height_m</th>\n",
       "      <th>sex_id</th>\n",
       "    </tr>\n",
       "  </thead>\n",
       "  <tbody>\n",
       "  </tbody>\n",
       "</table>\n",
       "</div>"
      ],
      "text/plain": [
       "Empty DataFrame\n",
       "Columns: [id, diagnosis, dob, height_m, sex_id]\n",
       "Index: []"
      ]
     },
     "execution_count": 5,
     "metadata": {},
     "output_type": "execute_result"
    }
   ],
   "source": [
    "pd.read_sql(\"SELECT * FROM participant\", con=engine)"
   ]
  },
  {
   "cell_type": "code",
   "execution_count": null,
   "id": "2d60c460",
   "metadata": {},
   "outputs": [],
   "source": []
  }
 ],
 "metadata": {
  "kernelspec": {
   "display_name": "heart-vis-_uWpPkwZ-py3.11",
   "language": "python",
   "name": "python3"
  },
  "language_info": {
   "codemirror_mode": {
    "name": "ipython",
    "version": 3
   },
   "file_extension": ".py",
   "mimetype": "text/x-python",
   "name": "python",
   "nbconvert_exporter": "python",
   "pygments_lexer": "ipython3",
   "version": "3.11.12"
  }
 },
 "nbformat": 4,
 "nbformat_minor": 5
}
