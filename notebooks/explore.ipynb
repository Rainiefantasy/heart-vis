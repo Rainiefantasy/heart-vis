{
 "cells": [
  {
   "cell_type": "code",
   "execution_count": 17,
   "metadata": {},
   "outputs": [
    {
     "name": "stdout",
     "output_type": "stream",
     "text": [
      "Requirement already satisfied: matplotlib in /usr/local/anaconda3/envs/cvdnet/lib/python3.13/site-packages (3.10.3)\n",
      "Requirement already satisfied: contourpy>=1.0.1 in /usr/local/anaconda3/envs/cvdnet/lib/python3.13/site-packages (from matplotlib) (1.3.2)\n",
      "Requirement already satisfied: cycler>=0.10 in /usr/local/anaconda3/envs/cvdnet/lib/python3.13/site-packages (from matplotlib) (0.12.1)\n",
      "Requirement already satisfied: fonttools>=4.22.0 in /usr/local/anaconda3/envs/cvdnet/lib/python3.13/site-packages (from matplotlib) (4.58.4)\n",
      "Requirement already satisfied: kiwisolver>=1.3.1 in /usr/local/anaconda3/envs/cvdnet/lib/python3.13/site-packages (from matplotlib) (1.4.8)\n",
      "Requirement already satisfied: numpy>=1.23 in /usr/local/anaconda3/envs/cvdnet/lib/python3.13/site-packages (from matplotlib) (2.2.2)\n",
      "Requirement already satisfied: packaging>=20.0 in /usr/local/anaconda3/envs/cvdnet/lib/python3.13/site-packages (from matplotlib) (24.2)\n",
      "Requirement already satisfied: pillow>=8 in /usr/local/anaconda3/envs/cvdnet/lib/python3.13/site-packages (from matplotlib) (11.2.1)\n",
      "Requirement already satisfied: pyparsing>=2.3.1 in /usr/local/anaconda3/envs/cvdnet/lib/python3.13/site-packages (from matplotlib) (3.2.3)\n",
      "Requirement already satisfied: python-dateutil>=2.7 in /usr/local/anaconda3/envs/cvdnet/lib/python3.13/site-packages (from matplotlib) (2.9.0.post0)\n",
      "Requirement already satisfied: six>=1.5 in /usr/local/anaconda3/envs/cvdnet/lib/python3.13/site-packages (from python-dateutil>=2.7->matplotlib) (1.16.0)\n",
      "   xnat_id     Name  Age         City      Description  Unnamed: 5  Visit  \\\n",
      "0        1    Alice   25     New York     Loves hiking         NaN      1   \n",
      "1        2      Bob   30  Los Angeles  Enjoys painting         NaN      1   \n",
      "2        3  Charlie   35      Chicago     Plays guitar         NaN      2   \n",
      "3        4    David   40      Houston    Writes poetry         NaN      1   \n",
      "4        1    Alice   25     New York     Loves hiking         NaN      2   \n",
      "5        3  Charlie   35      Chicago     Plays guitar         NaN      1   \n",
      "6        4    David   40      Houston    Writes poetry         NaN      2   \n",
      "\n",
      "    mri_date blood_date  \n",
      "0 2021-11-11 2021-11-13  \n",
      "1 2020-10-02 2020-10-02  \n",
      "2 2014-06-06 2014-06-08  \n",
      "3 2010-10-09 2010-10-13  \n",
      "4 2021-12-11 2021-12-10  \n",
      "5 2011-02-04 2011-02-10  \n",
      "6 2010-11-05 2010-11-14  \n"
     ]
    }
   ],
   "source": [
    "!pip install matplotlib\n",
    "import pandas as pd\n",
    "import matplotlib.pyplot as plt\n",
    "df = pd.read_excel('data/example_data.xlsx')\n",
    "\n",
    "# Print the first 5 rows of the dataframe\n",
    "print(df.head(n=10))\n"
   ]
  },
  {
   "cell_type": "code",
   "execution_count": 18,
   "metadata": {},
   "outputs": [
    {
     "data": {
      "application/vnd.microsoft.datawrangler.viewer.v0+json": {
       "columns": [
        {
         "name": "index",
         "rawType": "int64",
         "type": "integer"
        },
        {
         "name": "Name",
         "rawType": "object",
         "type": "string"
        },
        {
         "name": "mri_date",
         "rawType": "datetime64[ns]",
         "type": "datetime"
        }
       ],
       "ref": "1a230e4f-8aeb-4df2-9cb9-1bbe40e69c57",
       "rows": [
        [
         "0",
         "Alice",
         "2021-11-11 00:00:00"
        ],
        [
         "1",
         "Bob",
         "2020-10-02 00:00:00"
        ],
        [
         "2",
         "Charlie",
         "2011-02-04 00:00:00"
        ],
        [
         "3",
         "David",
         "2010-10-09 00:00:00"
        ]
       ],
       "shape": {
        "columns": 2,
        "rows": 4
       }
      },
      "text/html": [
       "<div>\n",
       "<style scoped>\n",
       "    .dataframe tbody tr th:only-of-type {\n",
       "        vertical-align: middle;\n",
       "    }\n",
       "\n",
       "    .dataframe tbody tr th {\n",
       "        vertical-align: top;\n",
       "    }\n",
       "\n",
       "    .dataframe thead th {\n",
       "        text-align: right;\n",
       "    }\n",
       "</style>\n",
       "<table border=\"1\" class=\"dataframe\">\n",
       "  <thead>\n",
       "    <tr style=\"text-align: right;\">\n",
       "      <th></th>\n",
       "      <th>Name</th>\n",
       "      <th>mri_date</th>\n",
       "    </tr>\n",
       "  </thead>\n",
       "  <tbody>\n",
       "    <tr>\n",
       "      <th>0</th>\n",
       "      <td>Alice</td>\n",
       "      <td>2021-11-11</td>\n",
       "    </tr>\n",
       "    <tr>\n",
       "      <th>1</th>\n",
       "      <td>Bob</td>\n",
       "      <td>2020-10-02</td>\n",
       "    </tr>\n",
       "    <tr>\n",
       "      <th>2</th>\n",
       "      <td>Charlie</td>\n",
       "      <td>2011-02-04</td>\n",
       "    </tr>\n",
       "    <tr>\n",
       "      <th>3</th>\n",
       "      <td>David</td>\n",
       "      <td>2010-10-09</td>\n",
       "    </tr>\n",
       "  </tbody>\n",
       "</table>\n",
       "</div>"
      ],
      "text/plain": [
       "      Name   mri_date\n",
       "0    Alice 2021-11-11\n",
       "1      Bob 2020-10-02\n",
       "2  Charlie 2011-02-04\n",
       "3    David 2010-10-09"
      ]
     },
     "execution_count": 18,
     "metadata": {},
     "output_type": "execute_result"
    }
   ],
   "source": [
    "df.groupby('Name')['mri_date'].min().reset_index()"
   ]
  },
  {
   "cell_type": "code",
   "execution_count": null,
   "metadata": {},
   "outputs": [
    {
     "data": {
      "text/plain": [
       "<Axes: title={'center': 'Number of Observations per Subject'}, ylabel='Frequency'>"
      ]
     },
     "execution_count": 19,
     "metadata": {},
     "output_type": "execute_result"
    },
    {
     "data": {
      "image/png": "[encoded data removed]",
      "text/plain": [
       "<Figure size 640x480 with 1 Axes>"
      ]
     },
     "metadata": {},
     "output_type": "display_data"
    }
   ],
   "source": [
    "# histogram of of number of observations per subject\n",
    "df.groupby('Name').size().plot(kind='hist', bins=20, title='Number of Observations per Subject')\n",
    "# histogram of age\n"
   ]
  },
  {
   "cell_type": "code",
   "execution_count": null,
   "metadata": {},
   "outputs": [],
   "source": []
  },
  {
   "cell_type": "code",
   "execution_count": null,
   "metadata": {},
   "outputs": [],
   "source": []
  },
  {
   "cell_type": "code",
   "execution_count": null,
   "metadata": {},
   "outputs": [],
   "source": []
  }
 ],
 "metadata": {
  "kernelspec": {
   "display_name": "cvdnet",
   "language": "python",
   "name": "python3"
  },
  "language_info": {
   "codemirror_mode": {
    "name": "ipython",
    "version": 3
   },
   "file_extension": ".py",
   "mimetype": "text/x-python",
   "name": "python",
   "nbconvert_exporter": "python",
   "pygments_lexer": "ipython3",
   "version": "3.13.2"
  }
 },
 "nbformat": 4,
 "nbformat_minor": 2
}
