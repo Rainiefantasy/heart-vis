{
 "cells": [
  {
   "cell_type": "code",
   "execution_count": 1,
   "id": "4906fff2",
   "metadata": {},
   "outputs": [],
   "source": [
    "class Plant:\n",
    "    def __init__(self, name, height, age, type_of_plant, water_needs=None, sunlight_needs=None):\n",
    "        self.name = name\n",
    "        self.height = height\n",
    "        self.age = age\n",
    "        self.type_of_plant = type_of_plant\n",
    "        self.water_needs = water_needs if water_needs is not None else 'check soil moisture'\n",
    "        self.sunlight_needs = sunlight_needs if sunlight_needs is not None else 'check light conditions'\n",
    "    def __str__(self):\n",
    "        return f\" Plant(name={self.name}, height={self.height}, age={self.age}, type_of_plant={self.type_of_plant})\"\n",
    "    def __repr__(self):\n",
    "        return f\"Plant(name={self.name}, height={self.height}, age={self.age}, type_of_plant={self.type_of_plant})\"\n",
    "    \n",
    "    def watering_instructions(self):\n",
    "        return f\"{self.name} needs watering: {self.water_needs}.\""
   ]
  },
  {
   "cell_type": "code",
   "execution_count": 4,
   "id": "241ac8dd",
   "metadata": {},
   "outputs": [],
   "source": [
    "fuzz = Plant('Mr Fuzz', '1.5m', 6, 'Fern', 'weekly', 'indirect sunlight')"
   ]
  },
  {
   "cell_type": "code",
   "execution_count": 5,
   "id": "a26a17b0",
   "metadata": {},
   "outputs": [
    {
     "data": {
      "text/plain": [
       "Plant(name=Mr Fuzz, height=1.5m, age=6, type_of_plant=Fern)"
      ]
     },
     "execution_count": 5,
     "metadata": {},
     "output_type": "execute_result"
    }
   ],
   "source": [
    "fuzz"
   ]
  },
  {
   "cell_type": "code",
   "execution_count": null,
   "id": "b693d905",
   "metadata": {},
   "outputs": [],
   "source": []
  }
 ],
 "metadata": {
  "kernelspec": {
   "display_name": "heart-vis-_uWpPkwZ-py3.11",
   "language": "python",
   "name": "python3"
  },
  "language_info": {
   "codemirror_mode": {
    "name": "ipython",
    "version": 3
   },
   "file_extension": ".py",
   "mimetype": "text/x-python",
   "name": "python",
   "nbconvert_exporter": "python",
   "pygments_lexer": "ipython3",
   "version": "3.11.12"
  }
 },
 "nbformat": 4,
 "nbformat_minor": 5
}
