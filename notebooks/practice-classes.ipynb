{
 "cells": [
  {
   "cell_type": "code",
   "execution_count": 29,
   "id": "4906fff2",
   "metadata": {},
   "outputs": [],
   "source": [
    "class Plant:\n",
    "    def __init__(self, name, height, age, type_of_plant, water_needs=None, sunlight_needs=None):\n",
    "        self.name = name\n",
    "        self.height = height\n",
    "        self.age = age\n",
    "        self.type_of_plant = type_of_plant\n",
    "        self.water_needs = water_needs if water_needs is not None else 'check soil moisture'\n",
    "        self.sunlight_needs = sunlight_needs if sunlight_needs is not None else 'move under grow lights'\n",
    "    def __str__(self):\n",
    "        return f\" Plant(name={self.name}, height={self.height}, age={self.age}, type_of_plant={self.type_of_plant})\"\n",
    "    def __repr__(self):\n",
    "        return f\"Plant(name={self.name}, height={self.height}, age={self.age}, type_of_plant={self.type_of_plant})\"\n",
    "\n",
    "    def watering_instructions(self):\n",
    "        return f\"{self.name} needs watering: {self.water_needs}.\"\n",
    "    \n",
    "    def plant_bio(self):\n",
    "        return f\"{self.name} is a {self.type_of_plant}, {self.age} years old, and currently {self.height}m tall.\"\n",
    "    \n",
    "    def sunlight_instructions(self):\n",
    "        return f\"{self.name} sunlight requirements: {self.sunlight_needs}.\""
   ]
  },
  {
   "cell_type": "code",
   "execution_count": 30,
   "id": "241ac8dd",
   "metadata": {},
   "outputs": [
    {
     "data": {
      "text/plain": [
       "[Plant(name=Mr Fuzz, height=1.5m, age=6, type_of_plant=Parlour Palm),\n",
       " Plant(name=Brie, height=1.2m, age=4, type_of_plant=Monstera),\n",
       " Plant(name=Harry, height=2m, age=1, type_of_plant=Hoya linearis),\n",
       " Plant(name=Asparagus, height=0.1m, age=1, type_of_plant=Asparagus Fern)]"
      ]
     },
     "execution_count": 30,
     "metadata": {},
     "output_type": "execute_result"
    }
   ],
   "source": [
    "fuzz = Plant('Mr Fuzz', '1.5m', 6, 'Parlour Palm', 'weekly', 'indirect sunlight')\n",
    "brie = Plant('Brie', '1.2m', 4, 'Monstera', 'biweekly', 'direct sunlight')\n",
    "harry = Plant('Harry', '2m',1, 'Hoya linearis', 'monthly')\n",
    "asparagus = Plant('Asparagus', '0.1m', 1, 'Asparagus Fern')\n",
    "\n",
    "plants = [fuzz, brie, harry, asparagus]\n",
    "plants"
   ]
  },
  {
   "cell_type": "code",
   "execution_count": null,
   "id": "a26a17b0",
   "metadata": {},
   "outputs": [
    {
     "name": "stdout",
     "output_type": "stream",
     "text": [
      "Mr Fuzz is a Parlour Palm, 6 years old, and currently 1.5mm tall.\n",
      "Mr Fuzz sunlight requirements: indirect sunlight.\n",
      "Mr Fuzz needs watering: weekly.\n"
     ]
    }
   ],
   "source": [
    "print(fuzz.plant_bio())\n",
    "print(fuzz.watering_instructions())\n",
    "print(fuzz.sunlight_instructions())"
   ]
  },
  {
   "cell_type": "code",
   "execution_count": 32,
   "id": "b693d905",
   "metadata": {},
   "outputs": [
    {
     "data": {
      "text/plain": [
       "'Mr Fuzz is a Parlour Palm, 6 years old, and currently 1.5mm tall.'"
      ]
     },
     "execution_count": 32,
     "metadata": {},
     "output_type": "execute_result"
    }
   ],
   "source": [
    "fuzz.plant_bio()"
   ]
  }
 ],
 "metadata": {
  "kernelspec": {
   "display_name": "heart-vis-_uWpPkwZ-py3.11",
   "language": "python",
   "name": "python3"
  },
  "language_info": {
   "codemirror_mode": {
    "name": "ipython",
    "version": 3
   },
   "file_extension": ".py",
   "mimetype": "text/x-python",
   "name": "python",
   "nbconvert_exporter": "python",
   "pygments_lexer": "ipython3",
   "version": "3.11.12"
  }
 },
 "nbformat": 4,
 "nbformat_minor": 5
}
